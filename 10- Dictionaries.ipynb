{
 "metadata": {
  "name": "10- Dictionaries"
 },
 "nbformat": 3,
 "nbformat_minor": 0,
 "worksheets": [
  {
   "cells": [
    {
     "cell_type": "heading",
     "level": 2,
     "source": [
      "Dictionaries"
     ]
    },
    {
     "cell_type": "markdown",
     "source": [
      "A dictionary is a book of terms and a definitions. In Python, we can\n",
      "make something similar, but instead of storing definitions, we can\n",
      "have it hold anything. Let's make a dictionary to hold information\n",
      "about a everyone's favorite Pokemon, Pikachu:"
     ]
    },
    {
     "cell_type": "code",
     "collapsed": false,
     "input": [
      "pikachu = { \"name\": \"Pikachu\",\n",
      "            \"level\": 5,\n",
      "            \"hit points\": 40,\n",
      "            \"type\": \"electric\",\n",
      "            \"evolves\": _\n",
      "        }\n",
      "\n",
      "pokemon(pikachu)"
     ],
     "language": "python",
     "outputs": [],
     "prompt_number": 4
    },
    {
     "cell_type": "markdown",
     "source": [
      "We begin with a variable called, `pikachu` and it is set to some data\n",
      "in *curly braces*. Inside those braces are *pairs* of information with\n",
      "a comma separating each pair.\n",
      "\n",
      "The information pair has two parts, separated by a colon. The first is\n",
      "usually a string in quotes, and the second can be any other data type.\n",
      "\n",
      "Notice the first pair is `\"name\"` and it is set to the string\n",
      "`\"Pikachu\"`, and the next pair is `\"level\"`, but it is set to the\n",
      "number, 5.\n",
      "\n",
      "Of course, we have a problem. The `\"evolves\"` entry isn't set. Replace\n",
      "the `_` symbol with a string of his evolved form. You know what that\n",
      "is, right? Yes, it is `\"Raichu\"`.\n",
      "\n",
      "Let's do another:"
     ]
    },
    {
     "cell_type": "code",
     "collapsed": false,
     "input": [
      "bulbasaur = {  \"name\": \"Bulbasaur\",\n",
      "               \"level\": 5,\n",
      "               \"hit points\": 45,\n",
      "               \"type\": [ \"grass\", \"poison\" ],\n",
      "               \"evolves\": _,\n",
      "               \"friends\": pikachu\n",
      "           }\n",
      "\n",
      "pokemon(bulbasaur)"
     ],
     "language": "python",
     "outputs": [],
     "prompt_number": 5
    },
    {
     "cell_type": "markdown",
     "source": [
      "The variable, `bulbasaur` has a dictionary that is very similar to\n",
      "`pikachu`, but with some differences. First, the `\"type\"` isn't set to\n",
      "a string, but to a list with two strings.\n",
      "\n",
      "Also, the `\"friends\"` is set to the variable, `pikachu`.\n",
      "\n",
      "But you also need to change the `_` symbol with a string containing\n",
      "his evolved form. What does he evolve into? *Tyrannosaur*? *Sinosaur*?\n",
      "Oh, that's right, `\"Ivysaur\"`. **Remember** don't delete the comma that follows it, or Python won't know to separate the `\"evolves\"` from the `\"friends\"`!"
     ]
    },
    {
     "cell_type": "heading",
     "level": 2,
     "source": [
      "Getting the Data"
     ]
    },
    {
     "cell_type": "markdown",
     "source": [
      "We've made the information, but how do we get it? Very similar to how\n",
      "we got information from a list, using square brackets:"
     ]
    },
    {
     "cell_type": "code",
     "collapsed": false,
     "input": [
      "pikachu[\"type\"]"
     ],
     "language": "python",
     "outputs": [
      {
       "output_type": "pyout",
       "prompt_number": 12,
       "text": [
        "'electric'"
       ]
      }
     ],
     "prompt_number": 12
    },
    {
     "cell_type": "markdown",
     "source": [
      "Here is an interesting idea. Can we figure out how to get the name of\n",
      "Bulbasaur's friend?"
     ]
    },
    {
     "cell_type": "code",
     "collapsed": false,
     "input": [
      "bulbasaur[\"friends\"][\"name\"]"
     ],
     "language": "python",
     "outputs": [
      {
       "output_type": "pyout",
       "prompt_number": 14,
       "text": [
        "'Pikachu'"
       ]
      }
     ],
     "prompt_number": 14
    },
    {
     "cell_type": "markdown",
     "source": [
      "Think of it in two parts. First, we ask for `bulbasaur[\"friends\"]`\n",
      "which will give us the `pikachu` variable. We can then ask that\n",
      "variable for its `[\"name\"]` to give us the string, `\"Pikachu\"`."
     ]
    },
    {
     "cell_type": "heading",
     "level": 2,
     "source": [
      "Setting some Data"
     ]
    },
    {
     "cell_type": "markdown",
     "source": [
      "But what if we forgot something? While Bulbasaur has a friend in\n",
      "Pikachu, the relationship isn't mutual, since Pikachu doesn't seem to\n",
      "be friends with Bulbasaur:"
     ]
    },
    {
     "cell_type": "code",
     "collapsed": false,
     "input": [
      "pikachu[\"friends\"][\"name\"]"
     ],
     "language": "python",
     "outputs": [
      {
       "ename": "KeyError",
       "evalue": "'friends'",
       "output_type": "pyerr",
       "traceback": [
        "\u001b[0;31m---------------------------------------------------------------------------\u001b[0m\n\u001b[0;31mKeyError\u001b[0m                                  Traceback (most recent call last)",
        "\u001b[0;32m<ipython-input-15-cdd6c97fe7c0>\u001b[0m in \u001b[0;36m<module>\u001b[0;34m()\u001b[0m\n\u001b[0;32m----> 1\u001b[0;31m \u001b[0mpikachu\u001b[0m\u001b[0;34m[\u001b[0m\u001b[0;34m\"friends\"\u001b[0m\u001b[0;34m]\u001b[0m\u001b[0;34m[\u001b[0m\u001b[0;34m\"name\"\u001b[0m\u001b[0;34m]\u001b[0m\u001b[0;34m\u001b[0m\u001b[0m\n\u001b[0m",
        "\u001b[0;31mKeyError\u001b[0m: 'friends'"
       ]
      }
     ],
     "prompt_number": 15
    },
    {
     "cell_type": "markdown",
     "source": [
      "How would you set it? By this time, you could probably guess. Replace the `_` symbol lin the code below with a string containing Pikachu's owner. What was his name again? *Ash Ketchup*? Perhaps it was *Ash Ketchum*..."
     ]
    },
    {
     "cell_type": "code",
     "collapsed": false,
     "input": [
      "pikachu[\"owner\"] = _\n",
      "pikachu[\"friends\"] = bulbasaur"
     ],
     "language": "python",
     "outputs": [],
     "prompt_number": 17
    },
    {
     "cell_type": "markdown",
     "source": [
      "Now, we can ask for Pikachu's friends:"
     ]
    },
    {
     "cell_type": "code",
     "collapsed": false,
     "input": [
      "pikachu[\"friends\"][\"name\"]"
     ],
     "language": "python",
     "outputs": [
      {
       "output_type": "pyout",
       "prompt_number": 18,
       "text": [
        "'Bulbasaur'"
       ]
      }
     ],
     "prompt_number": 18
    },
    {
     "cell_type": "markdown",
     "source": [
      "Let's make one more so that we can play around. What is Charmander's\n",
      "type? Replace the `_` symbol with a string containing his type:"
     ]
    },
    {
     "cell_type": "code",
     "collapsed": false,
     "input": [
      "charmander = { \"name\": \"Charmander\",\n",
      "               \"level\": 6,\n",
      "               \"hit points\": 39,\n",
      "               \"type\": _,\n",
      "               \"evolves\": \"Charmeleon\",\n",
      "               \"friends\": [ pikachu, bulbasaur ]\n",
      "           }\n",
      "\n",
      "pokemon(charmander)"
     ],
     "language": "python",
     "outputs": [],
     "prompt_number": 6
    },
    {
     "cell_type": "markdown",
     "source": [
      "How will we show Charmander's friends? If we use the same code that we\n",
      "did before, we will get an error:"
     ]
    },
    {
     "cell_type": "code",
     "collapsed": false,
     "input": [
      "charmander[\"friends\"][\"name\"]"
     ],
     "language": "python",
     "outputs": [
      {
       "ename": "TypeError",
       "evalue": "list indices must be integers, not str",
       "output_type": "pyerr",
       "traceback": [
        "\u001b[0;31m---------------------------------------------------------------------------\u001b[0m\n\u001b[0;31mTypeError\u001b[0m                                 Traceback (most recent call last)",
        "\u001b[0;32m<ipython-input-20-1450263099f5>\u001b[0m in \u001b[0;36m<module>\u001b[0;34m()\u001b[0m\n\u001b[0;32m----> 1\u001b[0;31m \u001b[0mcharmander\u001b[0m\u001b[0;34m[\u001b[0m\u001b[0;34m\"friends\"\u001b[0m\u001b[0;34m]\u001b[0m\u001b[0;34m[\u001b[0m\u001b[0;34m\"name\"\u001b[0m\u001b[0;34m]\u001b[0m\u001b[0;34m\u001b[0m\u001b[0m\n\u001b[0m",
        "\u001b[0;31mTypeError\u001b[0m: list indices must be integers, not str"
       ]
      }
     ],
     "prompt_number": 20
    },
    {
     "cell_type": "markdown",
     "source": [
      "We really need to ask for the name of either his first or second friend:"
     ]
    },
    {
     "cell_type": "code",
     "collapsed": false,
     "input": [
      "charmander[\"friends\"][1][\"name\"]"
     ],
     "language": "python",
     "outputs": [
      {
       "output_type": "pyout",
       "prompt_number": 21,
       "text": [
        "'Bulbasaur'"
       ]
      }
     ],
     "prompt_number": 21
    },
    {
     "cell_type": "markdown",
     "source": [
      "Let's create a function that will print the name of any of our Pokemon's friends.\n",
      "\n",
      "We want to have a test to see if a pokemon has one friend or more than one friend.\n",
      "So what should the `_` be?"
     ]
    },
    {
     "cell_type": "code",
     "collapsed": true,
     "input": [
      "def friends(pokemon):\n",
      "    if _:\n",
      "        for friend in pokemon[\"friends\"]:\n",
      "            print friend[\"name\"]\n",
      "    else:\n",
      "        print pokemon[\"friends\"][\"name\"]\n",
      "\n",
      "print \"Pikachu is friends with:\"\n",
      "friends(pikachu)\n",
      "\n",
      "print \"Charmander is friends with:\"\n",
      "friends(charmander)"
     ],
     "language": "python",
     "outputs": [
      {
       "output_type": "stream",
       "stream": "stdout",
       "text": [
        "Pikachu is friends with:\n",
        "Bulbasaur\n",
        "Charmander is friends with:\n",
        "Pikachu\n",
        "Bulbasaur\n"
       ]
      }
     ],
     "prompt_number": 23
    },
    {
     "cell_type": "markdown",
     "source": [
      "We could use the `len` function:\n",
      "\n",
      "    len( pokemon[\"friends\"] ) > 1\n",
      "\n",
      "Since when we ask for Charmander's friends, we get 2:"
     ]
    },
    {
     "cell_type": "code",
     "collapsed": false,
     "input": [
      "len( charmander[\"friends\"] )"
     ],
     "language": "python",
     "outputs": [
      {
       "output_type": "pyout",
       "prompt_number": 25,
       "text": [
        "2"
       ]
      }
     ],
     "prompt_number": 25
    },
    {
     "cell_type": "markdown",
     "source": [
      "But this isn't *quite* what we want. Run this code to see how many\n",
      "friends Pikachu has, and it won't be 1:"
     ]
    },
    {
     "cell_type": "code",
     "collapsed": false,
     "input": [
      "len( pikachu[\"friends\"] )"
     ],
     "language": "python",
     "outputs": [
      {
       "output_type": "pyout",
       "prompt_number": 24,
       "text": [
        "6"
       ]
      }
     ],
     "prompt_number": 24
    },
    {
     "cell_type": "markdown",
     "source": [
      "Wait!? How does Pikachu have 6 friends? His only friend (at least according to the data we set above) is Bulbasaur.\n",
      "\n",
      "Put on your engineer hat, and let's see if we can solve this problem.\n",
      "\n",
      "What is `pikachu[\"friends\"]`? It points to our `bulbasaur` dictionary.\n",
      "Try printing out the `bulbasaur` dictionary:"
     ]
    },
    {
     "cell_type": "code",
     "collapsed": false,
     "input": [
      "bulbasaur"
     ],
     "language": "python",
     "outputs": [
      {
       "output_type": "pyout",
       "prompt_number": 27,
       "text": [
        "{'evolves': '',\n",
        " 'friends': {'evolves': '',\n",
        "  'friends': {...},\n",
        "  'hit points': 40,\n",
        "  'level': 5,\n",
        "  'name': 'Pikachu',\n",
        "  'owner': 'Ash',\n",
        "  'type': 'electric'},\n",
        " 'hit points': 45,\n",
        " 'level': 5,\n",
        " 'name': 'Bulbasaur',\n",
        " 'type': ['grass', 'poison']}"
       ]
      }
     ],
     "prompt_number": 27
    },
    {
     "cell_type": "markdown",
     "source": [
      "Hrm. Wait a minute. How many entries does Bulbasaur have?\n",
      "\n",
      "  * 'evolves'\n",
      "  * 'friends'\n",
      "  * 'hit points'\n",
      "  * 'level'\n",
      "  * 'name'\n",
      "  * 'type'\n",
      "\n",
      "It has 6! That is where that number is coming from. The `len` function\n",
      "will try to count anything. For instance:"
     ]
    },
    {
     "cell_type": "code",
     "collapsed": false,
     "input": [
      "print len( \"hello\")\n",
      "print len( [ 1, 2, 3 ])\n",
      "print len( { \"a\": 1,  \"b\": 2 } )"
     ],
     "language": "python",
     "outputs": [
      {
       "output_type": "stream",
       "stream": "stdout",
       "text": [
        "5\n",
        "3\n",
        "2\n"
       ]
      }
     ],
     "prompt_number": 29
    },
    {
     "cell_type": "markdown",
     "source": [
      "Instead of greater than 1, we could actually check for 2 friends:\n",
      "\n",
      "    if len( pokemon[\"friends\"] ) == 2:\n",
      "\n",
      "But that means that our Pokemon can only have 1 or 2 friends. That\n",
      "wouldn't really work for really popular Pokemon that everyone invites\n",
      "to their Pokeball Parties (like Ghastly).\n",
      "\n",
      "We need a better way.\n",
      "\n",
      "We use the `isinstance` function. It works like this:"
     ]
    },
    {
     "cell_type": "code",
     "collapsed": false,
     "input": [
      "isinstance( [ 1, 2, 3 ], list )"
     ],
     "language": "python",
     "outputs": [
      {
       "output_type": "pyout",
       "prompt_number": 30,
       "text": [
        "True"
       ]
      }
     ],
     "prompt_number": 30
    },
    {
     "cell_type": "markdown",
     "source": [
      "In the cell below, change the `_` symbol with `list`:"
     ]
    },
    {
     "cell_type": "code",
     "collapsed": false,
     "input": [
      "def friends(pokemon):\n",
      "    if isinstance(pokemon[\"friends\"], _):\n",
      "        for friend in pokemon[\"friends\"]:\n",
      "            print friend[\"name\"]\n",
      "    else:\n",
      "        print pokemon[\"friends\"][\"name\"]\n",
      "\n",
      "print \"Pikachu is friends with:\"\n",
      "friends(pikachu)\n",
      "\n",
      "print \"Charmander is friends with:\"\n",
      "friends(charmander)"
     ],
     "language": "python",
     "outputs": [
      {
       "output_type": "stream",
       "stream": "stdout",
       "text": [
        "Pikachu is friends with:\n",
        "Bulbasaur\n",
        "Charmander is friends with:\n",
        "Pikachu\n",
        "Bulbasaur\n"
       ]
      }
     ],
     "prompt_number": 31
    },
    {
     "cell_type": "markdown",
     "source": [
      "I have two points in showing you all of this.\n",
      "\n",
      "First, a dictionary can store anything, but you need to be sure what\n",
      "kind of data will come back.\n",
      "\n",
      "Second, I wanted to show you how an engineer thinks when he or she\n",
      "runs into a problem. We solve problems all day long. If you think\n",
      "solving problems is a game, then maybe you might consider a career as\n",
      "a professional geek.\n",
      "\n",
      "In our next lesson, we'll use dictionaries and lists to make our games\n",
      "a bit more interesting."
     ]
    }
   ]
  }
 ]
}