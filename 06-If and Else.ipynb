{
 "metadata": {
  "name": "06-If and Else"
 },
 "nbformat": 3,
 "nbformat_minor": 0,
 "worksheets": [
  {
   "cells": [
    {
     "cell_type": "heading",
     "level": 2,
     "metadata": {},
     "source": [
      "If and Else"
     ]
    },
    {
     "cell_type": "markdown",
     "metadata": {},
     "source": [
      "In the last lesson, I barely talked about the `if`. As you saw, it is really easy to use. In this lesson, we talk about it a bit more since it is really important. First, let's start off with our list. Change the `_` with the name of your favorite pony (or your name if you don't have a favorite):"
     ]
    },
    {
     "cell_type": "code",
     "collapsed": false,
     "input": [
      "ponies = [ \"Applejack\", \"Fluttershy\", \"Scootaloo\", \"Caramel\", \"_\" ]"
     ],
     "language": "python",
     "metadata": {},
     "outputs": [],
     "prompt_number": 1
    },
    {
     "cell_type": "markdown",
     "metadata": {},
     "source": [
      "Next, let's pick a pony at random. To do that, we use our `randint` function set to pick a random number from `0` to the `len(ponies)`. Remember, that `len(ponies)` will return `5`, and if `randint` is set to `5`, it will pick a random number from `0` to `4` (one less than the number you give it)."
     ]
    },
    {
     "cell_type": "code",
     "collapsed": false,
     "input": [
      "picked = ponies[ randint( len(ponies) ) ]\n",
      "\n",
      "picked"
     ],
     "language": "python",
     "metadata": {},
     "outputs": [
      {
       "output_type": "pyout",
       "prompt_number": 6,
       "text": [
        "'Scootaloo'"
       ]
      }
     ],
     "prompt_number": 6
    },
    {
     "cell_type": "markdown",
     "metadata": {},
     "source": [
      "What pony did it pick? Having the last line be *picked* means that it will display the name of the random pony it chose. Click the **Play** button again to get a different pony. Now, let's turn this into a *guessing game*. First, get rid of the last `picked` line in the code cell above, and press the **Play** button again. Now we don't know which pony was picked.\n",
      "\n",
      "In the line below, change the `_` symbol with the text string, `Scootaloo`, or any other pony that you think Python chose. (Remember the quotes)"
     ]
    },
    {
     "cell_type": "code",
     "collapsed": false,
     "input": [
      "guess = _"
     ],
     "language": "python",
     "metadata": {},
     "outputs": [],
     "prompt_number": 8
    },
    {
     "cell_type": "markdown",
     "metadata": {},
     "source": [
      "Now, let's check if our guess is correct. Press **Play** in the following cell."
     ]
    },
    {
     "cell_type": "code",
     "collapsed": false,
     "input": [
      "if guess == picked:\n",
      "    print \"You're right! I picked\", picked\n",
      "else:\n",
      "    print \"Nope. I was thinking of\", picked"
     ],
     "language": "python",
     "metadata": {},
     "outputs": [
      {
       "output_type": "stream",
       "stream": "stdout",
       "text": [
        "You're right! I picked Scootaloo\n"
       ]
      }
     ],
     "prompt_number": 10
    },
    {
     "cell_type": "markdown",
     "metadata": {},
     "source": [
      "The first line checks to see if `guess` is the same as `picked` (remember, we aren't *assigning* `picked` to `guess`, we are *comparing*, so we need to use the double `==` equals symbol).\n",
      "\n",
      "If we didn't guess right, the `else` command on the third line tells Python to run the next code section, which tells us that we didn't guess the answer."
     ]
    },
    {
     "cell_type": "heading",
     "level": 2,
     "metadata": {},
     "source": [
      "Else and Else If"
     ]
    },
    {
     "cell_type": "markdown",
     "metadata": {},
     "source": [
      "I don't know about you, but I think this game is too hard. Perhaps we need a clue to which pony Python picked.\n",
      "\n",
      "In this next cell, let's give ourselves some clues. Replace the `_` with a clue about *Caramel*:"
     ]
    },
    {
     "cell_type": "code",
     "collapsed": false,
     "input": [
      "if picked == \"Applejack\":                             # Line 1\n",
      "    print \"This pony was named after a cereal.\"       # Line 2\n",
      "elif picked == \"Fluttershy\":                          # Line 3\n",
      "    print \"This pony is very, very shy.\"              # Line 4\n",
      "elif picked == \"Scootaloo\":                           # Line 5\n",
      "    print \"This pony has a funny name.\"               # Line 6\n",
      "elif picked == \"Caramel\":\n",
      "    _\n",
      "else:                                                 # Line 9\n",
      "    print \"This is my new pony.\"                      # Line 10"
     ],
     "language": "python",
     "metadata": {},
     "outputs": [
      {
       "output_type": "stream",
       "stream": "stdout",
       "text": [
        "This pony has a funny name.\n"
       ]
      }
     ],
     "prompt_number": 7
    },
    {
     "cell_type": "markdown",
     "metadata": {},
     "source": [
      "Let's walk through this code. The first line checks to see if the `picked` variable has `Applejack` and if so, it prints the Applejack clue. The `elif` on the third line, is a Python term that is short for *else if*. So, if the `picked` wasn't Applejack, then we will check to see if `picked` is set to `Fluttershy`. If it is, we print the Fluttershy clue on line 4.\n",
      "\n",
      "If it wasn't, it goes to the next `elif` (on line 5) and checks to see if `picked` is set to `Scootaloo`. You get the idea. The ninth line is just `else`, and this tells Python that if we didn't match anything before, print the clue, `This is my new pony.`\n",
      "\n",
      "When you press the **Play** button, can you guess which pony was chosen? Of course you can, the answers are right there. ;-) But soon, we'll hide our code, and we'll just see the words from the `print` commands, and then our friends will have to guess."
     ]
    },
    {
     "cell_type": "heading",
     "level": 2,
     "metadata": {},
     "source": [
      "Better Guessing Game"
     ]
    },
    {
     "cell_type": "markdown",
     "metadata": {},
     "source": [
      "Let's make a better guessing game, that isn't too hard or too easy. First, let's get a secret number:"
     ]
    },
    {
     "cell_type": "code",
     "collapsed": false,
     "input": [
      "secret = randint(1, 10)"
     ],
     "language": "python",
     "metadata": {},
     "outputs": [],
     "prompt_number": 21
    },
    {
     "cell_type": "markdown",
     "metadata": {},
     "source": [
      "Next, we guess the number, and get a message telling us a hint about picking a better number. Replace `_` with your guess. You can keep changing it and pressing the **Play** button to see if you can guess it."
     ]
    },
    {
     "cell_type": "code",
     "collapsed": false,
     "input": [
      "guess = _\n",
      "\n",
      "if guess > secret:\n",
      "    print \"You guessed too high. Try again.\"\n",
      "elif guess < secret:\n",
      "    print \"Your guess is too low. Try again.\"\n",
      "elif guess == secret:\n",
      "    print \"You did it! You guessed right!\""
     ],
     "language": "python",
     "metadata": {},
     "outputs": [
      {
       "output_type": "stream",
       "stream": "stdout",
       "text": [
        "You guessed too high. Try again.\n"
       ]
      }
     ],
     "prompt_number": 15
    },
    {
     "cell_type": "markdown",
     "metadata": {},
     "source": [
      "We could make this game a bit better with a few more clues. We could see if *difference* between the `guess` and the `secret` is more than 4, we could print a better message:"
     ]
    },
    {
     "cell_type": "code",
     "collapsed": false,
     "input": [
      "guess = _\n",
      "\n",
      "if guess > secret and guess - secret > 4:\n",
      "    print \"Your guess is way too high. Try again.\"\n",
      "elif guess > secret:\n",
      "    print \"Your guess is too high. Try again\"\n",
      "elif guess < secret and secret - guess > 4:\n",
      "    print \"Your guess is way too low. Try again.\"\n",
      "elif guess < secret:\n",
      "    print \"Your guess is too low. Try again\"\n",
      "elif guess == secret:\n",
      "    print \"You did it! You guessed right!\""
     ],
     "language": "python",
     "metadata": {},
     "outputs": [
      {
       "output_type": "stream",
       "stream": "stdout",
       "text": [
        "Your guess is way too high. Try again.\n"
       ]
      }
     ],
     "prompt_number": 27
    },
    {
     "cell_type": "markdown",
     "metadata": {},
     "source": [
      "Notice the word `and`? That let's use check two things, but they *both* have to be true before Python will run the indented section.\n",
      "\n",
      "Let's expand the game to keep track of how many times it takes us to guess right. Let's pick a new random number, and we will make a new variable, `count`, to keep track of our guesses:"
     ]
    },
    {
     "cell_type": "code",
     "collapsed": false,
     "input": [
      "secret = randint(1, 20)\n",
      "count  = 0"
     ],
     "language": "python",
     "metadata": {},
     "outputs": [],
     "prompt_number": 29
    },
    {
     "cell_type": "markdown",
     "metadata": {},
     "source": [
      "Our Python code is pretty similar to what we had before:"
     ]
    },
    {
     "cell_type": "code",
     "collapsed": false,
     "input": [
      "guess = _\n",
      "\n",
      "count = count + 1    # Each time this runs, we add 1 to count\n",
      "\n",
      "if guess > secret and guess - secret > 4:\n",
      "    print \"Your guess is way too high. Try again.\"\n",
      "elif guess > secret:\n",
      "    print \"Your guess is too high. Try again\"\n",
      "elif guess < secret and secret - guess > 4:\n",
      "    print \"Your guess is way too low. Try again.\"\n",
      "elif guess < secret:\n",
      "    print \"Your guess is too low. Try again\"\n",
      "elif guess == secret:\n",
      "    print \"You did it! You guessed the number in\", count, \"tries.\"\n",
      "    show_award()"
     ],
     "language": "python",
     "metadata": {},
     "outputs": [
      {
       "output_type": "stream",
       "stream": "stdout",
       "text": [
        "You did it! You guessed the number in 8 tries.\n"
       ]
      }
     ],
     "prompt_number": 37
    },
    {
     "cell_type": "markdown",
     "metadata": {},
     "source": [
      "The `show_award` function on the last line is something I wrote to display an award when you win. \n",
      "\n",
      "I think it is time to teach you how to make your own functions, don't you?"
     ]
    }
   ],
   "metadata": {}
  }
 ]
}