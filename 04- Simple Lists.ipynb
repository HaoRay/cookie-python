{
 "metadata": {
  "name": "04- Simple Lists"
 },
 "nbformat": 3,
 "nbformat_minor": 0,
 "worksheets": [
  {
   "cells": [
    {
     "cell_type": "markdown",
     "metadata": {},
     "source": [
      "So far, all of your variables have stored one thing. However, a variable can also hold *a list of things*. For instance, this list contains the names of some ponies. Change the `_` below with \"Rainbow Dash\" since no list of ponies would be complete without that one, right?"
     ]
    },
    {
     "cell_type": "code",
     "collapsed": false,
     "input": [
      "ponies = [ \"Applejack\", \"Fluttershy\", \"Scootaloo\", \"Caramel\", \"_\" ]"
     ],
     "language": "python",
     "metadata": {},
     "outputs": [],
     "prompt_number": 31
    },
    {
     "cell_type": "markdown",
     "metadata": {},
     "source": [
      "Notice those *square brackets*? That tells Python that the `ponies` will hold lots of other things... in this case, strings of text.\n",
      "\n",
      "We can see what our variable holds by either putting it on a line by itself, like:"
     ]
    },
    {
     "cell_type": "code",
     "collapsed": false,
     "input": [
      "ponies"
     ],
     "language": "python",
     "metadata": {},
     "outputs": [
      {
       "output_type": "pyout",
       "prompt_number": 32,
       "text": [
        "['Applejack', 'Fluttershy', 'Scootaloo', 'Caramel', 'Rainbow Dash']"
       ]
      }
     ],
     "prompt_number": 32
    },
    {
     "cell_type": "markdown",
     "metadata": {},
     "source": [
      "Or, we can use the `print` to see it:"
     ]
    },
    {
     "cell_type": "code",
     "collapsed": false,
     "input": [
      "print ponies"
     ],
     "language": "python",
     "metadata": {},
     "outputs": [
      {
       "output_type": "stream",
       "stream": "stdout",
       "text": [
        "['Applejack', 'Fluttershy', 'Scootaloo', 'Caramel', 'Rainbow Dash']\n"
       ]
      }
     ],
     "prompt_number": 33
    },
    {
     "cell_type": "markdown",
     "metadata": {},
     "source": [
      "We often use the `print` to show something on the screen.\n",
      "\n",
      "How many things are there? We can ask Python:"
     ]
    },
    {
     "cell_type": "code",
     "collapsed": false,
     "input": [
      "len(ponies)"
     ],
     "language": "python",
     "metadata": {},
     "outputs": [
      {
       "output_type": "pyout",
       "prompt_number": 6,
       "text": [
        "5"
       ]
      }
     ],
     "prompt_number": 6
    },
    {
     "cell_type": "markdown",
     "metadata": {},
     "source": [
      "What is the first thing in the list?"
     ]
    },
    {
     "cell_type": "code",
     "collapsed": false,
     "input": [
      "ponies[0]"
     ],
     "language": "python",
     "metadata": {},
     "outputs": [
      {
       "output_type": "pyout",
       "prompt_number": 7,
       "text": [
        "'Applejack'"
       ]
      }
     ],
     "prompt_number": 7
    },
    {
     "cell_type": "markdown",
     "metadata": {},
     "source": [
      "Right. It is Applejack.\n",
      "\n",
      "![Applejack](http://images2.wikia.nocookie.net/__cb20130419182238/mlp/images/thumb/d/d8/Applejack_S01E13_cropped.png/250px-Applejack_S01E13_cropped.png)\n",
      "\n",
      "There are those square brackets again. This is because we don't want to get all the ponies, just one. But why the `0`? Well, in some computer languages like Python, a list starts with 0 and goes up from there. So the second item is `1`, and so on.\n",
      "\n",
      "What about getting the last item? We could do this:"
     ]
    },
    {
     "cell_type": "code",
     "collapsed": false,
     "input": [
      "ponies [ len(ponies) - 1 ]"
     ],
     "language": "python",
     "metadata": {},
     "outputs": [
      {
       "output_type": "pyout",
       "prompt_number": 8,
       "text": [
        "'Rainbow Dash'"
       ]
      }
     ],
     "prompt_number": 8
    },
    {
     "cell_type": "markdown",
     "metadata": {},
     "source": [
      "That's a lot of typing. An easier way is to do this:"
     ]
    },
    {
     "cell_type": "code",
     "collapsed": false,
     "input": [
      "ponies[-1]"
     ],
     "language": "python",
     "metadata": {},
     "outputs": [
      {
       "output_type": "pyout",
       "prompt_number": 9,
       "text": [
        "'Rainbow Dash'"
       ]
      }
     ],
     "prompt_number": 9
    },
    {
     "cell_type": "markdown",
     "metadata": {},
     "source": [
      "Hrm ... I wonder what a `-2` would return. Let's try it by replacing the `_` with `-2`:"
     ]
    },
    {
     "cell_type": "code",
     "collapsed": false,
     "input": [
      "ponies[-2]"
     ],
     "language": "python",
     "metadata": {},
     "outputs": [
      {
       "output_type": "pyout",
       "prompt_number": 10,
       "text": [
        "'Caramel'"
       ]
      }
     ],
     "prompt_number": 10
    },
    {
     "cell_type": "markdown",
     "metadata": {},
     "source": [
      "Oh, we forgot about *Big McIntosh*, but we can add it to the end of the list with `append()`. Replace the `_` below with the name of your favorite pony: "
     ]
    },
    {
     "cell_type": "code",
     "collapsed": false,
     "input": [
      "ponies.append(\"_\")"
     ],
     "language": "python",
     "metadata": {},
     "outputs": [],
     "prompt_number": 14
    },
    {
     "cell_type": "markdown",
     "metadata": {},
     "source": [
      "Let's see if the `ponies` list is changed by looking at the last pony. Replace the `_` with `-1` to see the last pony in our list:"
     ]
    },
    {
     "cell_type": "code",
     "collapsed": true,
     "input": [
      "print ponies[_]"
     ],
     "language": "python",
     "metadata": {},
     "outputs": [
      {
       "ename": "TypeError",
       "evalue": "list indices must be integers, not str",
       "output_type": "pyerr",
       "traceback": [
        "\u001b[0;31m---------------------------------------------------------------------------\u001b[0m\n\u001b[0;31mTypeError\u001b[0m                                 Traceback (most recent call last)",
        "\u001b[0;32m<ipython-input-16-acd8025ebcf1>\u001b[0m in \u001b[0;36m<module>\u001b[0;34m()\u001b[0m\n\u001b[0;32m----> 1\u001b[0;31m \u001b[0mponies\u001b[0m\u001b[0;34m[\u001b[0m\u001b[0m_\u001b[0m\u001b[0;34m]\u001b[0m\u001b[0;34m\u001b[0m\u001b[0m\n\u001b[0m",
        "\u001b[0;31mTypeError\u001b[0m: list indices must be integers, not str"
       ]
      }
     ],
     "prompt_number": 16
    },
    {
     "cell_type": "markdown",
     "metadata": {},
     "source": [
      "Use `sort` to put the ponies in alphabetical order, and `reverse` to change this order."
     ]
    },
    {
     "cell_type": "code",
     "collapsed": false,
     "input": [
      "ponies.reverse()\n",
      "\n",
      "print ponies"
     ],
     "language": "python",
     "metadata": {},
     "outputs": [
      {
       "output_type": "stream",
       "stream": "stdout",
       "text": [
        "['Rainbow Dash', 'Caramel', 'Scootaloo', 'Fluttershy', 'Applejack']\n"
       ]
      }
     ],
     "prompt_number": 34
    },
    {
     "cell_type": "markdown",
     "metadata": {},
     "source": [
      "Python also has a `sort` to put the items in *alphabetical order*:"
     ]
    },
    {
     "cell_type": "code",
     "collapsed": false,
     "input": [
      "ponies.sort()\n",
      "\n",
      "print ponies"
     ],
     "language": "python",
     "metadata": {},
     "outputs": [
      {
       "output_type": "stream",
       "stream": "stdout",
       "text": [
        "['Applejack', 'Caramel', 'Fluttershy', 'Rainbow Dash', 'Scootaloo']\n"
       ]
      }
     ],
     "prompt_number": 35
    },
    {
     "cell_type": "markdown",
     "metadata": {},
     "source": [
      "We can put these two together to get *Scootaloo* in front:"
     ]
    },
    {
     "cell_type": "code",
     "collapsed": false,
     "input": [
      "ponies.sort()\n",
      "ponies.reverse()\n",
      "\n",
      "print ponies"
     ],
     "language": "python",
     "metadata": {},
     "outputs": [
      {
       "output_type": "stream",
       "stream": "stdout",
       "text": [
        "['Scootaloo', 'Rainbow Dash', 'Fluttershy', 'Caramel', 'Applejack']\n"
       ]
      }
     ],
     "prompt_number": 37
    },
    {
     "cell_type": "markdown",
     "metadata": {},
     "source": [
      "A list can also hold numbers. Can you make a list with some prime numbers? I'll get you started:"
     ]
    },
    {
     "cell_type": "code",
     "collapsed": false,
     "input": [
      "primes = [ 1, 2, 3, 5, 7, 11, _, _, _ ]\n",
      "\n",
      "len(primes)"
     ],
     "language": "python",
     "metadata": {},
     "outputs": [
      {
       "output_type": "pyout",
       "prompt_number": 20,
       "text": [
        "9"
       ]
      }
     ],
     "prompt_number": 20
    },
    {
     "cell_type": "markdown",
     "metadata": {},
     "source": [
      "I wonder what the largest prime number you put in your list? Replace the `_` with a `0` to get the largest number."
     ]
    },
    {
     "cell_type": "code",
     "collapsed": true,
     "input": [
      "primes.sort()\n",
      "primes.reverse()\n",
      "\n",
      "print primes[_]"
     ],
     "language": "python",
     "metadata": {},
     "outputs": [
      {
       "output_type": "stream",
       "stream": "stdout",
       "text": [
        "11\n"
       ]
      }
     ],
     "prompt_number": 38
    },
    {
     "cell_type": "markdown",
     "metadata": {},
     "source": [
      "We can use the `range()` function to make a list of numbers starting at 0. Replace `_` below with `20`:"
     ]
    },
    {
     "cell_type": "code",
     "collapsed": false,
     "input": [
      "range(_)"
     ],
     "language": "python",
     "metadata": {},
     "outputs": [
      {
       "output_type": "pyout",
       "prompt_number": 21,
       "text": [
        "[0, 1, 2, 3, 4, 5, 6, 7, 8, 9, 10, 11, 12, 13, 14, 15, 16, 17, 18, 19]"
       ]
      }
     ],
     "prompt_number": 21
    },
    {
     "cell_type": "markdown",
     "metadata": {},
     "source": [
      "Notice how the first number in our list is `0` and the last one is one less than the number we asked? But the `len` of a range is the right size, so:\n",
      "\n",
      "    len(range(x)) == x\n",
      "\n",
      "What do you think would happen when you give `range` two numbers? Try to guess before clicking the **Play** button on this cell:"
     ]
    },
    {
     "cell_type": "code",
     "collapsed": true,
     "input": [
      "range(5,10)"
     ],
     "language": "python",
     "metadata": {},
     "outputs": [
      {
       "output_type": "pyout",
       "prompt_number": 22,
       "text": [
        "[5, 6, 7, 8, 9]"
       ]
      }
     ],
     "prompt_number": 22
    },
    {
     "cell_type": "markdown",
     "metadata": {},
     "source": [
      "What do you think would happen when you give `range` three numbers? One again, try to guess before clicking the **Play** button on this cell:"
     ]
    },
    {
     "cell_type": "code",
     "collapsed": false,
     "input": [
      "range(10, 20, 2)"
     ],
     "language": "python",
     "metadata": {},
     "outputs": [
      {
       "output_type": "pyout",
       "prompt_number": 23,
       "text": [
        "[10, 12, 14, 16, 18]"
       ]
      }
     ],
     "prompt_number": 23
    },
    {
     "cell_type": "markdown",
     "metadata": {},
     "source": [
      "Notice how the `range` always ends just before it gets to the last number. That means that:\n",
      "\n",
      "    range(10, 20, 2) == range(10, 19, 2)"
     ]
    },
    {
     "cell_type": "markdown",
     "metadata": {},
     "source": [
      "Let's put all the stuff we've learned so far together. In this game, replace the `_` with a number like 10 or 20. Click the **Play** button to have it give you some clues about the two random numbers:"
     ]
    },
    {
     "cell_type": "code",
     "collapsed": true,
     "input": [
      "unknowns = [ randint(1, _), randint(1, _) ]   # Pick two random numbers\n",
      "unknowns.sort()    # Make sure the first number is smaller than the second\n",
      "diff = unknowns[-1] - unknowns[0]               # What is the difference?\n",
      "\n",
      "print \"I am thinking of two numbers. If the first number is\", diff, \"lower than the\",\n",
      "print \"second, and the highest number is\", unknowns[-1], \". What is the first?\""
     ],
     "language": "python",
     "metadata": {},
     "outputs": [
      {
       "output_type": "stream",
       "stream": "stdout",
       "text": [
        "I am thinking of two numbers. If the first number is 4 lower than the second, and the highest number is 7 . What is the first?\n"
       ]
      }
     ],
     "prompt_number": 53
    },
    {
     "cell_type": "markdown",
     "metadata": {},
     "source": [
      "Good job. A couple of new things. First, Python ignores everything that follows a `#` symbol. This lets us make little notes or comments about our code. That is a good habit to acquire.\n",
      "\n",
      "Also, you'll notice that the `print` can take lots of things as long as each of them is separated by a comma. The first `print` ends with a comma. That tells Python to put both messages together.\n",
      "\n",
      "Now, now replace the `_` below with your guess. That's right, this game is easier than our square root game."
     ]
    },
    {
     "cell_type": "code",
     "collapsed": true,
     "input": [
      "guess = _\n",
      "\n",
      "guess == unknowns[0]"
     ],
     "language": "python",
     "metadata": {},
     "outputs": [
      {
       "output_type": "pyout",
       "prompt_number": 54,
       "text": [
        "True"
       ]
      }
     ],
     "prompt_number": 54
    },
    {
     "cell_type": "markdown",
     "metadata": {},
     "source": [
      "That double `==` equal is right. If we use a single `=` sign, we want to *assign* the right side to the left. This is why the first `guess` line has a single `=` sign.\n",
      "\n",
      "However, if we want to *check* and see if two things are the same, we use a double `==` sign. This will tell Python to return `True` or `False`, and let's you see if your guess was right.\n",
      "\n",
      "*Whew!* You've learned a lot today. This deserves a trophy!\n",
      "\n",
      "![Trophy](http://openclipart.org/image/250px/svg_to_png/120343/1297919410.png)\n"
     ]
    }
   ],
   "metadata": {}
  }
 ]
}