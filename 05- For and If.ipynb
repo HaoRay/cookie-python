{
 "metadata": {
  "name": "05-For and If"
 },
 "nbformat": 3,
 "nbformat_minor": 0,
 "worksheets": [
  {
   "cells": [
    {
     "cell_type": "markdown",
     "metadata": {},
     "source": [
      "<style>\n",
      ".rendered_html ol {\n",
      "  list-style: decimal;\n",
      "}\n",
      "</style>\n",
      "\n",
      "Computers are great for doing things over and over again without complaining or needing a coffee break. In this lesson, we'll learn about one way of making our program code loop."
     ]
    },
    {
     "cell_type": "heading",
     "level": 2,
     "metadata": {},
     "source": [
      "For"
     ]
    },
    {
     "cell_type": "markdown",
     "metadata": {},
     "source": [
      "\n",
      "\n",
      "Remember our list of `ponies`? Let's print each pony one at a time. Replace the `_` character with your favorite name:"
     ]
    },
    {
     "cell_type": "code",
     "collapsed": false,
     "input": [
      "ponies = [ \"Applejack\", \"Fluttershy\", \"Scootaloo\", \"Caramel\", \"_\" ]\n",
      "\n",
      "for pony in ponies: print pony\n",
      "# 1   2   3    4  5   6     7"
     ],
     "language": "python",
     "metadata": {},
     "outputs": [
      {
       "output_type": "stream",
       "stream": "stdout",
       "text": [
        "Applejack\n",
        "Fluttershy\n",
        "Scootaloo\n",
        "Caramel\n",
        "Rainbow Brite\n"
       ]
      }
     ],
     "prompt_number": 3
    },
    {
     "cell_type": "markdown",
     "metadata": {},
     "source": [
      "See those numbers after the comment symbol `#`? I put numbers so that I could describe each part of this program:\n",
      "\n",
      "1. The `for` tells Python that we are going to do a loop.\n",
      "2. We create a `pony` variable. Each time around the loop, `pony` will be set to the name of one of the things in our list. In this case, a name of a pony.\n",
      "3. The `in` separates the variable from the list name.\n",
      "4. Here is our list, `ponies`.\n",
      "5. The colon ends the *head* part of the `for` loop start and says that everything else that follows is the *body* part of the loop. The *body* is what will be repeated.\n",
      "6. The `print` is what we will do *inside the body* of the loop.\n",
      "7. Inside the body, the `pony` variable will be set to each thing in our list.\n",
      "\n",
      "That is pretty easy once you know about the pieces."
     ]
    },
    {
     "cell_type": "heading",
     "level": 2,
     "metadata": {},
     "source": [
      "Blocks"
     ]
    },
    {
     "cell_type": "markdown",
     "metadata": {},
     "source": [
      "But what if you want to do more than one thing in our loop? For instance, we could make up a number for the number of miles a pony ran, like this:\n",
      "\n",
      "    distance = randint(5,20)\n",
      "    print pony, \"ran\", distance, \"miles\"\n",
      "\n",
      "While the *body* of a loop must follow the colon symbol, it can go on different lines *as long as those lines are indented*. That is important, so let me show you what I mean. In the program below, change the `_` symbol with a random number:"
     ]
    },
    {
     "cell_type": "code",
     "collapsed": false,
     "input": [
      "for pony in ponies:\n",
      "    distance = _\n",
      "    print pony, \"ran\", distance, \"miles.\""
     ],
     "language": "python",
     "metadata": {},
     "outputs": [
      {
       "output_type": "stream",
       "stream": "stdout",
       "text": [
        "Applejack ran 15 miles.\n",
        "Fluttershy ran 5 miles.\n",
        "Scootaloo ran 5 miles.\n",
        "Caramel ran 13 miles.\n",
        "Rainbow Brite ran 10 miles.\n"
       ]
      }
     ],
     "prompt_number": 5
    },
    {
     "cell_type": "markdown",
     "metadata": {},
     "source": [
      "A couple of points to keep in mind:\n",
      "\n",
      "  * Each indented line must be done with spaces (don't use the tab key).\n",
      "  * Each line must be indented the same amount.\n",
      "  * End the body of the loop by not indenting it.\n",
      "\n",
      "Let's do our loop again, but with a starting and finishing line. Replace the first `_` symbol with a text string, `\"\"Ponies run far.\"` and the last `_` symbol with: `\"How far did you run today?\"`"
     ]
    },
    {
     "cell_type": "code",
     "collapsed": false,
     "input": [
      "print _\n",
      "for pony in ponies:\n",
      "    distance = randint(5,20)\n",
      "    print pony, \"ran\", distance, \"miles\"\n",
      "print _"
     ],
     "language": "python",
     "metadata": {},
     "outputs": [
      {
       "output_type": "stream",
       "stream": "stdout",
       "text": [
        "Ponies run far.\n",
        "Applejack ran 16 miles\n",
        "Fluttershy ran 18 miles\n",
        "Scootaloo ran 14 miles\n",
        "Caramel ran 14 miles\n",
        "Rainbow Brite ran 10 miles\n",
        "How far did you run today?\n"
       ]
      }
     ],
     "prompt_number": 6
    },
    {
     "cell_type": "markdown",
     "metadata": {},
     "source": [
      "Alright, enough of the ponies ... let's do some math, since that is why you are here. I wrote a function, `is_prime` that tells you if a number you give it, is something that can only be evenly divided by 1 and itself. For instance:\n",
      "\n",
      "    is_prime(1)    # is True\n",
      "    is_prime(2)    # is True\n",
      "    is_prime(3)    # is True\n",
      "    is_prime(4)    # is False\n",
      "    is_prime(11)   # is True\n",
      "    is_prime(15)   # is False\n",
      "\n",
      "I bet you know how to make a list of all the prime numbers less than 100, right? In the program code below, we need to substitute the `_` with 100 numbers so that the `for` can assign the variable `number` to each one. In the last lesson, we used the `range` function to create lists of numbers, so let's use that."
     ]
    },
    {
     "cell_type": "code",
     "collapsed": true,
     "input": [
      "for number in _:\n",
      "    print number, \"is\", is_prime(number)"
     ],
     "language": "python",
     "metadata": {},
     "outputs": [
      {
       "output_type": "stream",
       "stream": "stdout",
       "text": [
        "1 is True\n",
        "2 is True\n",
        "3 is True\n",
        "4 is False\n",
        "5 is True\n",
        "6 is False\n",
        "7 is True\n",
        "8 is False\n",
        "9 is True\n",
        "10 is False\n",
        "11 is True\n",
        "12 is False\n",
        "13 is True\n",
        "14 is False\n",
        "15 is False\n",
        "16 is False\n",
        "17 is True\n",
        "18 is False\n",
        "19 is True\n",
        "20 is False\n",
        "21 is False\n",
        "22 is False\n",
        "23 is True\n",
        "24 is False\n",
        "25 is False\n",
        "26 is False\n",
        "27 is False\n",
        "28 is False\n",
        "29 is True\n",
        "30 is False\n",
        "31 is True\n",
        "32 is False\n",
        "33 is False\n",
        "34 is False\n",
        "35 is False\n",
        "36 is False\n",
        "37 is True\n",
        "38 is False\n",
        "39 is False\n",
        "40 is False\n",
        "41 is True\n",
        "42 is False\n",
        "43 is True\n",
        "44 is False\n",
        "45 is False\n",
        "46 is False\n",
        "47 is True\n",
        "48 is False\n",
        "49 is False\n",
        "50 is False\n",
        "51 is False\n",
        "52 is False\n",
        "53 is True\n",
        "54 is False\n",
        "55 is False\n",
        "56 is False\n",
        "57 is False\n",
        "58 is False\n",
        "59 is True\n",
        "60 is False\n",
        "61 is True\n",
        "62 is False\n",
        "63 is False\n",
        "64 is False\n",
        "65 is False\n",
        "66 is False\n",
        "67 is True\n",
        "68 is False\n",
        "69 is False\n",
        "70 is False\n",
        "71 is True\n",
        "72 is False\n",
        "73 is True\n",
        "74 is False\n",
        "75 is False\n",
        "76 is False\n",
        "77 is False\n",
        "78 is False\n",
        "79 is True\n",
        "80 is False\n",
        "81 is False\n",
        "82 is False\n",
        "83 is True\n",
        "84 is False\n",
        "85 is False\n",
        "86 is False\n",
        "87 is False\n",
        "88 is False\n",
        "89 is True\n",
        "90 is False\n",
        "91 is False\n",
        "92 is False\n",
        "93 is False\n",
        "94 is False\n",
        "95 is False\n",
        "96 is False\n",
        "97 is True\n",
        "98 is False\n",
        "99 is False\n"
       ]
      }
     ],
     "prompt_number": 8
    },
    {
     "cell_type": "heading",
     "level": 2,
     "metadata": {},
     "source": [
      "If"
     ]
    },
    {
     "cell_type": "markdown",
     "metadata": {},
     "source": [
      "Wow, that's a long list. We really just wanted to see the prime numbers, not all of them. In the program code below, once again, replace the `_` symbol with a list of numbers to check:"
     ]
    },
    {
     "cell_type": "code",
     "collapsed": true,
     "input": [
      "for number in _:\n",
      "    if is_prime(number): print number,\n",
      "#    1      2          3    4"
     ],
     "language": "python",
     "metadata": {},
     "outputs": [
      {
       "output_type": "stream",
       "stream": "stdout",
       "text": [
        "1 is prime.\n",
        "2 is prime.\n",
        "3 is prime.\n",
        "5 is prime.\n",
        "7 is prime.\n",
        "9 is prime.\n",
        "11 is prime.\n",
        "13 is prime.\n",
        "17 is prime.\n",
        "19 is prime.\n",
        "23 is prime.\n",
        "29 is prime.\n",
        "31 is prime.\n",
        "37 is prime.\n",
        "41 is prime.\n",
        "43 is prime.\n",
        "47 is prime.\n",
        "53 is prime.\n",
        "59 is prime.\n",
        "61 is prime.\n",
        "67 is prime.\n",
        "71 is prime.\n",
        "73 is prime.\n",
        "79 is prime.\n",
        "83 is prime.\n",
        "89 is prime.\n",
        "97 is prime.\n"
       ]
      }
     ],
     "prompt_number": 9
    },
    {
     "cell_type": "markdown",
     "metadata": {},
     "source": [
      "Let me number those parts and describe them:\n",
      "\n",
      "1. The `if` statement only does something if what follows is `True`\n",
      "2. Our function returns either `True` or `False` ... perfect for what the `if` would like to see.\n",
      "3. The colon separates the *head* of the `if` from the *body*.\n",
      "4. The *body* of the `if` runs if the `if` is `True`. Yeah, say that a few times fast!\n",
      "\n",
      "**Note:** If the `print` ends with a comma, then it puts everything on one line.\n",
      "\n"
     ]
    },
    {
     "cell_type": "heading",
     "level": 2,
     "metadata": {},
     "source": [
      "If Blocks"
     ]
    },
    {
     "cell_type": "markdown",
     "metadata": {},
     "source": [
      "If you were wondering if the `if` statement could take an *indented block* of code, you would guess correctly. We could have written the last program code like:"
     ]
    },
    {
     "cell_type": "code",
     "collapsed": false,
     "input": [
      "for number in range(100):\n",
      "    if is_prime(number):\n",
      "        print number,"
     ],
     "language": "python",
     "metadata": {},
     "outputs": [
      {
       "output_type": "stream",
       "stream": "stdout",
       "text": [
        "1 2 3 5 7 9 11 13 17 19 23 29 31 37 41 43 47 53 59 61 67 71 73 79 83 89 97\n"
       ]
      }
     ],
     "prompt_number": 10
    },
    {
     "cell_type": "markdown",
     "metadata": {},
     "source": [
      "That's right, the block inside the `if` must be indented *more*, otherwise, Python might think it is part of the `for` block.\n",
      "\n",
      "If you have understood everything so far, then Python will be a breeze, because we have now covered the *building blocks* of this programming language. Everything else looks like what we've already covered."
     ]
    },
    {
     "cell_type": "heading",
     "level": 3,
     "metadata": {},
     "source": [
      "What project should we use to end this assignment?"
     ]
    }
   ],
   "metadata": {}
  }
 ]
}