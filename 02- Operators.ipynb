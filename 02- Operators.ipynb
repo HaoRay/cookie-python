{
 "metadata": {
  "name": "02- Operators"
 },
 "nbformat": 3,
 "nbformat_minor": 0,
 "worksheets": [
  {
   "cells": [
    {
     "cell_type": "markdown",
     "metadata": {},
     "source": [
      "Our second assignment is about *operators*. An operator is something that works on some data ... often numbers. Yes, this is where we get into the math, but you should be happy about that, since getting Python to do your math homework is better than using a calculator."
     ]
    },
    {
     "cell_type": "heading",
     "level": 3,
     "metadata": {},
     "source": [
      "Addition"
     ]
    },
    {
     "cell_type": "markdown",
     "metadata": {},
     "source": [
      "Let's suppose we have a math problem like this one:\n",
      "\n",
      "  $35 + 7$\n",
      "\n",
      "How would you solve that in Python? Pretty much the same way:"
     ]
    },
    {
     "cell_type": "code",
     "collapsed": false,
     "input": [
      "35 + 7"
     ],
     "language": "python",
     "metadata": {},
     "outputs": [
      {
       "output_type": "pyout",
       "prompt_number": 1,
       "text": [
        "42"
       ]
      }
     ],
     "prompt_number": 1
    },
    {
     "cell_type": "markdown",
     "metadata": {},
     "source": [
      "The `+` symbol is an *operator*. Some of them will be obvious to you, but others may be strange:"
     ]
    },
    {
     "cell_type": "heading",
     "level": 3,
     "metadata": {},
     "source": [
      "Subtraction"
     ]
    },
    {
     "cell_type": "markdown",
     "metadata": {},
     "source": [
      "As you can guess, subtraction is just that minus-looking symbol we sometimes call a hyphen. So far, so good."
     ]
    },
    {
     "cell_type": "code",
     "collapsed": false,
     "input": [
      "131 - 89"
     ],
     "language": "python",
     "metadata": {},
     "outputs": [
      {
       "output_type": "pyout",
       "prompt_number": 2,
       "text": [
        "42"
       ]
      }
     ],
     "prompt_number": 2
    },
    {
     "cell_type": "heading",
     "level": 3,
     "metadata": {},
     "source": [
      "Multiplication"
     ]
    },
    {
     "cell_type": "markdown",
     "metadata": {},
     "source": [
      "How do we do multiplication, like:\n",
      "\n",
      "$6 \\times 7$\n",
      "\n",
      "If we used the \"x\" letter, Python would think it was a variable named `x`, so we use the asterisk (hold down the Shift and type `8` on most keyboards)."
     ]
    },
    {
     "cell_type": "code",
     "collapsed": false,
     "input": [
      "6 * 7"
     ],
     "language": "python",
     "metadata": {},
     "outputs": [
      {
       "output_type": "pyout",
       "prompt_number": 3,
       "text": [
        "42"
       ]
      }
     ],
     "prompt_number": 3
    },
    {
     "cell_type": "heading",
     "level": 3,
     "metadata": {},
     "source": [
      "Division"
     ]
    },
    {
     "cell_type": "markdown",
     "metadata": {},
     "source": [
      "You realize that division is really just a fraction, right? $\\frac{3}{4}$ is really just 3 divided by 4. Since we don't have a $\\div$ key on our computer, we use the *slash* key: `/`"
     ]
    },
    {
     "cell_type": "code",
     "collapsed": false,
     "input": [
      "126 / 3"
     ],
     "language": "python",
     "metadata": {},
     "outputs": [
      {
       "output_type": "pyout",
       "prompt_number": 4,
       "text": [
        "42"
       ]
      }
     ],
     "prompt_number": 4
    },
    {
     "cell_type": "heading",
     "level": 3,
     "metadata": {},
     "source": [
      "Remainder"
     ]
    },
    {
     "cell_type": "markdown",
     "metadata": {},
     "source": [
      "If you divide 8 by 3, you get 2 with a *remainder*. If you want the remainder, you use the `%` operator, which we call by a few different names: *modulo* or *modulus*"
     ]
    },
    {
     "cell_type": "code",
     "collapsed": false,
     "input": [
      "8 % 3"
     ],
     "language": "python",
     "metadata": {},
     "outputs": [
      {
       "output_type": "pyout",
       "prompt_number": 5,
       "text": [
        "2"
       ]
      }
     ],
     "prompt_number": 5
    },
    {
     "cell_type": "heading",
     "level": 3,
     "metadata": {},
     "source": [
      "Powers"
     ]
    },
    {
     "cell_type": "markdown",
     "metadata": {},
     "source": [
      "In math, we sometimes use *powers*, like $4^2$, which means \"four times itself 2 times\": $4 \\times 4$. We use this so much we call it *4 squared*.\n",
      "\n",
      "The general way, like $4^5$ (which is $4 \\times 4 \\times 4 \\times 4 \\times 4$) is written using *two asterisks*:"
     ]
    },
    {
     "cell_type": "code",
     "collapsed": false,
     "input": [
      "4**5"
     ],
     "language": "python",
     "metadata": {},
     "outputs": [
      {
       "output_type": "pyout",
       "prompt_number": 6,
       "text": [
        "1024"
       ]
      }
     ],
     "prompt_number": 6
    },
    {
     "cell_type": "heading",
     "level": 3,
     "metadata": {},
     "source": [
      "Python Better than a Calculator?"
     ]
    },
    {
     "cell_type": "markdown",
     "metadata": {},
     "source": [
      "So far, everything I've showed you is just what you could do with a calculator. But Python may impress you. Grab a calculator that has a power function key (it will look like $x^y$), and press: $2 ... x^y ... 1024$\n",
      "\n",
      "What did you get? You'll end up either getting an error, or the calculator starts to *round* using *Exponential Notation* (that's what the `E` sign means). While I won't explain Exponential Notation, let me just say that you can't see all the digits that are part of the answer.\n",
      "\n",
      "Now, in the cell below, type: `2 ** 1024` and what the Python Magic:"
     ]
    },
    {
     "cell_type": "code",
     "collapsed": false,
     "input": [],
     "language": "python",
     "metadata": {},
     "outputs": [],
     "prompt_number": 6
    },
    {
     "cell_type": "markdown",
     "metadata": {},
     "source": [
      "Yeah, you should be impressed."
     ]
    },
    {
     "cell_type": "heading",
     "level": 3,
     "metadata": {},
     "source": [
      "How About Pi?"
     ]
    },
    {
     "cell_type": "markdown",
     "metadata": {},
     "source": [
      "Well, if Python can show me all the digits to an operation like that, then what about $\\pi$ ? First of all, you already know that $\\pi$ is an *irrational* number, meaning that it is a non-repeating, *never-ending* number. So we can't render it, even in Python.\n",
      "\n",
      "However, you can make a variable called `pi` that holds as many digits that you have memorized. Let's do that:"
     ]
    },
    {
     "cell_type": "code",
     "collapsed": true,
     "input": [
      "pi = _\n",
      "\n",
      "check(2, 1, pi)"
     ],
     "language": "python",
     "metadata": {},
     "outputs": [
      {
       "output_type": "stream",
       "stream": "stdout",
       "text": [
        "Just like our previous assignments, you need to replace the _ symbol above with the answer. In this case, the answer begins with 3. something something.\n"
       ]
      }
     ],
     "prompt_number": 7
    },
    {
     "cell_type": "markdown",
     "metadata": {},
     "source": [
      "Python already comes with a variable holding a few digits of pi, but you get to it with `math.pi`. Type this variable in the new box, and let's see the difference between your version of pi and Python's."
     ]
    },
    {
     "cell_type": "code",
     "collapsed": false,
     "input": [
      "_\n",
      "\n",
      "check(2, 2, pi)"
     ],
     "language": "python",
     "metadata": {},
     "outputs": [
      {
       "output_type": "stream",
       "stream": "stdout",
       "text": [
        "3.14159265359\n",
        "\n"
       ]
      }
     ],
     "prompt_number": 10
    },
    {
     "cell_type": "heading",
     "level": 3,
     "metadata": {},
     "source": [
      "Storing our Answers in Variable Boxes"
     ]
    },
    {
     "cell_type": "markdown",
     "metadata": {},
     "source": [
      "As you can guess, we can store our answers from operators in variables. Let's use `math.pi` to find the area of a circle that is 6 inches across. You remember the formula, right? $A = \\pi r^2$"
     ]
    },
    {
     "cell_type": "code",
     "collapsed": false,
     "input": [
      "r = _\n",
      "area = _\n",
      "\n",
      "check(2, 3, area)"
     ],
     "language": "python",
     "metadata": {},
     "outputs": [
      {
       "output_type": "stream",
       "stream": "stdout",
       "text": [
        "Hint: The diameter is 6, but the formula uses `r` which is the radius.\n"
       ]
      }
     ],
     "prompt_number": 9
    },
    {
     "cell_type": "markdown",
     "metadata": {},
     "source": [
      "So I've shown you that Python is better than a calculator, but you haven't seen anything yet. In the next episode, I'll show you more."
     ]
    }
   ],
   "metadata": {}
  }
 ]
}