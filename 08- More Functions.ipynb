{
 "metadata": {
  "name": "08- More Functions"
 },
 "nbformat": 3,
 "nbformat_minor": 0,
 "worksheets": [
  {
   "cells": [
    {
     "cell_type": "heading",
     "level": 2,
     "source": [
      "More Functions"
     ]
    },
    {
     "cell_type": "markdown",
     "source": [
      "You'll remember from our previous discussion that a *function* is like magic bucket... you put in something, but then get something different back. You *define* a function with `def` and the function's name. Keep in mind, a function an *indented section* for its body. When your function has something to give back, use the `return` call.\n",
      "\n",
      "Let's make a `square` function that takes a parameter called `x`, and returns $x \\times x$. Replace the `_` symbol with an expression for $x^2$:"
     ]
    },
    {
     "cell_type": "code",
     "collapsed": false,
     "input": [
      "def square(x):\n",
      "    return _\n",
      "\n",
      "print square(4)     # This should return 16\n",
      "print square(25)    # This should return 625"
     ],
     "language": "python",
     "outputs": [
      {
       "output_type": "stream",
       "stream": "stdout",
       "text": [
        "16\n",
        "625\n"
       ]
      }
     ],
     "prompt_number": 1
    },
    {
     "cell_type": "markdown",
     "source": [
      "Enough review, let's talk about something really cool... A function can actually call another *function*!"
     ]
    },
    {
     "cell_type": "code",
     "collapsed": false,
     "input": [
      "def cube(x):\n",
      "    return x * square(x)\n",
      "\n",
      "print cube(3)"
     ],
     "language": "python",
     "outputs": [
      {
       "output_type": "stream",
       "stream": "stdout",
       "text": [
        "27\n"
       ]
      }
     ],
     "prompt_number": 2
    },
    {
     "cell_type": "heading",
     "level": 2,
     "source": [
      "Let's make a \"Power\" function"
     ]
    },
    {
     "cell_type": "markdown",
     "source": [
      "Remember how if you ask this question:\n",
      "\n",
      "$a + a + a + a$\n",
      "\n",
      "You could just ask how many $a$'s are there, and then change it to:\n",
      "\n",
      "$a \\times 4$\n",
      "\n",
      "We can do the same thing if with this question:\n",
      "\n",
      "$ a \\times a \\times a \\times a $\n",
      "\n",
      "This is the same as $a^4$ ... or *a to the power of 4*. Let's create a `power` function."
     ]
    },
    {
     "cell_type": "code",
     "collapsed": false,
     "input": [
      "def pow1(x, y):           # Our first attempt at a power function\n",
      "    result = 1            # We will \"return\" this result\n",
      "    for i in range(y):\n",
      "        result = result * x\n",
      "    return result"
     ],
     "language": "python",
     "outputs": [],
     "prompt_number": 14
    },
    {
     "cell_type": "markdown",
     "source": [
      "Remember, `range(5)` returns an array: `[0, 1, 2, 3, 4, 5]` and `for` will make our `i` variable equal each one of these values. So if `x` is 5 and `y` is 4, the result will be each of these in turn:\n",
      "\n",
      " * $i = 0 , result = 1 \\times 5 = 5$\n",
      " * $i = 1 , result = 5 \\times 5 = 25$\n",
      " * $i = 2 , result = 25 \\times 5 = 125$\n",
      " * $i = 3 , result = 125 \\times 5 = 625$\n",
      " * $i = 4 , result = 625 \\times 5 = 3125$\n",
      "\n",
      "At the end of the loop when `i` is 4, it returns this final result.\n",
      "\n",
      "Let's check our results:"
     ]
    },
    {
     "cell_type": "code",
     "collapsed": false,
     "input": [
      "print pow1(5, 0)\n",
      "print pow1(5, 1)\n",
      "print pow1(5, 2)\n",
      "print pow1(5, 3)"
     ],
     "language": "python",
     "outputs": [
      {
       "output_type": "stream",
       "stream": "stdout",
       "text": [
        "1\n",
        "5\n",
        "25\n",
        "125\n"
       ]
      }
     ],
     "prompt_number": 15
    },
    {
     "cell_type": "markdown",
     "source": [
      "Let's try a different `power` function. This time we will change the `y`:"
     ]
    },
    {
     "cell_type": "code",
     "collapsed": false,
     "input": [
      "def pow2(x, y):\n",
      "    result = 1\n",
      "    while y > 0:\n",
      "        result = result * x\n",
      "        y = y - 1\n",
      "    return result"
     ],
     "language": "python",
     "outputs": [],
     "prompt_number": 6
    },
    {
     "cell_type": "code",
     "collapsed": false,
     "input": [
      "print pow2(4, 0)\n",
      "print pow2(4, 1)\n",
      "print pow2(4, 2)\n",
      "print pow2(4, 3)"
     ],
     "language": "python",
     "outputs": [
      {
       "output_type": "stream",
       "stream": "stdout",
       "text": [
        "1\n",
        "4\n",
        "16\n",
        "64\n"
       ]
      }
     ],
     "prompt_number": 16
    },
    {
     "cell_type": "markdown",
     "source": [
      "Keep in mind, $x^y$ is really the same as $x \\times x^{y-1}$ ... maybe an example would be good. You know that $6^3 = 6 \\times 6^2$ which is also the same as $6 \\times 6 \\times 6^1$ ... Oh, you know that $6^1 = 6$.\n",
      "\n",
      "Let's make a new version of our `pow` function, but this time we will have our function call itself with y being 1 smaller:"
     ]
    },
    {
     "cell_type": "code",
     "collapsed": false,
     "input": [
      "def pow(x, y):\n",
      "    \"x is the base number. y is the power to raise x.\"\n",
      "    if y == 0:\n",
      "        return 1\n",
      "    elif y == 1:\n",
      "        return x\n",
      "    else:\n",
      "        return x * pow(x, y-1)"
     ],
     "language": "python",
     "outputs": [],
     "prompt_number": 8
    },
    {
     "cell_type": "code",
     "collapsed": false,
     "input": [
      "print pow(6, 0)\n",
      "print pow(6, 1)\n",
      "print pow(6, 2)\n",
      "print pow(6, 3)"
     ],
     "language": "python",
     "outputs": [
      {
       "output_type": "stream",
       "stream": "stdout",
       "text": [
        "1\n",
        "6\n",
        "36\n",
        "216\n"
       ]
      }
     ],
     "prompt_number": 12
    },
    {
     "cell_type": "markdown",
     "source": [
      "Interesting that you can have a function call itself. The most famous is a *factorial*. We usually write a \n",
      "\n",
      "$5! = 1 \\times 2 \\times 3 \\times 4 \\times 5 = 120$\n",
      "\n",
      "In other words,\n",
      "\n",
      "$5! = 5 \\times 4!$\n",
      "\n",
      "Does this give you an idea how you could make it?\n",
      "\n",
      "Of course $1! = 1$ and $2! = 1 \\times 2 = 2$ ..."
     ]
    },
    {
     "cell_type": "code",
     "collapsed": false,
     "input": [
      "def factorial(x):\n",
      "    if x == 1:\n",
      "        return 1\n",
      "    else:\n",
      "        return x * factorial(x-1)"
     ],
     "language": "python",
     "outputs": [],
     "prompt_number": 9
    },
    {
     "cell_type": "code",
     "collapsed": false,
     "input": [
      "print factorial(1)\n",
      "print factorial(5)\n",
      "print factorial(50)"
     ],
     "language": "python",
     "outputs": [
      {
       "output_type": "stream",
       "stream": "stdout",
       "text": [
        "1\n",
        "120\n",
        "30414093201713378043612608166064768844377641568960512000000000000\n"
       ]
      }
     ],
     "prompt_number": 11
    },
    {
     "cell_type": "heading",
     "level": 2,
     "source": [
      "Summary"
     ]
    },
    {
     "cell_type": "markdown",
     "source": [
      "To summarized, we now know how to write a function and know how those\n",
      "functions can call each other, plus, we have built some pretty hairy\n",
      "functions. What shall we do next?"
     ]
    }
   ]
  }
 ]
}