{
 "metadata": {
  "name": "03-Calling Functions"
 },
 "nbformat": 3,
 "nbformat_minor": 0,
 "worksheets": [
  {
   "cells": [
    {
     "cell_type": "markdown",
     "metadata": {},
     "source": [
      "Operators are only one way to *get things done*. The other way is to call a *function*. A function has a name, so if we want a particular function *to go and do something*, we call it by name with two final parenthesis, like this:\n",
      "\n",
      "      something()\n",
      "\n",
      "Python has a function called `random` which returns a random number between 0 and 1. Let's call that:"
     ]
    },
    {
     "cell_type": "code",
     "collapsed": false,
     "input": [
      "random()"
     ],
     "language": "python",
     "metadata": {},
     "outputs": [
      {
       "output_type": "pyout",
       "prompt_number": 1,
       "text": [
        "0.25315989397277505"
       ]
      }
     ],
     "prompt_number": 1
    },
    {
     "cell_type": "markdown",
     "metadata": {},
     "source": [
      "Every time you press the **Play** button in that gray box, the numbers below it change.\n",
      "\n",
      "Functions can be given *parameters* that can modify their behavior. For instance, the `randint` function returns a *regular* random number between the two numbers given to it. We give it numbers between the parenthesis. If we wanted to pretend that we were rolling a dice, we would do this:"
     ]
    },
    {
     "cell_type": "code",
     "collapsed": false,
     "input": [
      "randint(1, 6)"
     ],
     "language": "python",
     "metadata": {},
     "outputs": [
      {
       "output_type": "pyout",
       "prompt_number": 25,
       "text": [
        "4"
       ]
      }
     ],
     "prompt_number": 25
    },
    {
     "cell_type": "markdown",
     "metadata": {},
     "source": [
      "You are probably thinking to yourself, \"I've seen functions before! That `check()` code at the end of every exercise!\"\n",
      "\n",
      "You are correct. Calling that `check` function and passing it your work is how I can check to see if you did the assignment.\n",
      "\n",
      "I have function that will show you a dice if you give it a number 1 through 6."
     ]
    },
    {
     "cell_type": "code",
     "collapsed": false,
     "input": [
      "side = _\n",
      "dice(side)"
     ],
     "language": "python",
     "metadata": {},
     "outputs": [
      {
       "output_type": "stream",
       "stream": "stdout",
       "text": [
        "The number for 'side' must be 1, 2, 3, 4, 5, or 6.\n"
       ]
      }
     ],
     "prompt_number": 13
    },
    {
     "cell_type": "markdown",
     "metadata": {},
     "source": [
      "In many games that you buy from the store, your random dice rolls are limited to the six sides. This is why some games come with dice with different shapes like this 4 sided and 12 sided dice:\n",
      "\n",
      "<img src=\"http://openclipart.org/image/250px/svg_to_png/91891/1287763658.png\">\n",
      "<img src=\"http://openclipart.org/image/250px/svg_to_png/92041/Dice7.png\">\n",
      "\n",
      "But in computer games we write in Python, we could have a random dice roll with a 7 sided diced: `randint(1,7)`"
     ]
    },
    {
     "cell_type": "markdown",
     "metadata": {},
     "source": [
      "What other functions can we call? Put it this way, Python has so many functions that we have to group them in collections. Soon we will start writing our own functions."
     ]
    },
    {
     "cell_type": "markdown",
     "metadata": {},
     "source": [
      "You know that $3^2$ (written as `3**2` in Python) is `9`, but we can get the reverse of this, called a *square root* (in math, this is shown as $\\sqrt{9}$) with the `sqrt()` function. However, it is in the `math` collection, so we have to do this:"
     ]
    },
    {
     "cell_type": "code",
     "collapsed": false,
     "input": [
      "math.sqrt(9)"
     ],
     "language": "python",
     "metadata": {},
     "outputs": [
      {
       "output_type": "pyout",
       "prompt_number": 1,
       "text": [
        "3.0"
       ]
      }
     ],
     "prompt_number": 1
    },
    {
     "cell_type": "markdown",
     "metadata": {},
     "source": [
      "It came back as a decimal number. What if we wanted to get a regular, whole number? We use `int`:"
     ]
    },
    {
     "cell_type": "code",
     "collapsed": false,
     "input": [
      "int( math.sqrt(9) )"
     ],
     "language": "python",
     "metadata": {},
     "outputs": [
      {
       "output_type": "pyout",
       "prompt_number": 7,
       "text": [
        "3"
       ]
      }
     ],
     "prompt_number": 7
    },
    {
     "cell_type": "markdown",
     "metadata": {},
     "source": [
      "Yes, you can call a function *inside* another function call. Just make sure to get the parenthesis right!\n",
      "\n",
      "Let's make a little game for ourselves. Let's have Python choose a random number, but not tell us. Then is will show us that random numbers square root, and we try to guess it. Sounds like fun, right?"
     ]
    },
    {
     "cell_type": "code",
     "collapsed": true,
     "input": [
      "random_number = randint(4, _)\n",
      "square_root = math.sqrt(random_number)\n",
      "\n",
      "check(3, 1, square_root, random_number)"
     ],
     "language": "python",
     "metadata": {},
     "outputs": [
      {
       "ename": "TypeError",
       "evalue": "unsupported operand type(s) for +: 'Image' and 'int'",
       "output_type": "pyerr",
       "traceback": [
        "\u001b[0;31m---------------------------------------------------------------------------\u001b[0m\n\u001b[0;31mTypeError\u001b[0m                                 Traceback (most recent call last)",
        "\u001b[0;32m<ipython-input-5-eb27c513706e>\u001b[0m in \u001b[0;36m<module>\u001b[0;34m()\u001b[0m\n\u001b[0;32m----> 1\u001b[0;31m \u001b[0mrandom_number\u001b[0m \u001b[0;34m=\u001b[0m \u001b[0mrandint\u001b[0m\u001b[0;34m(\u001b[0m\u001b[0;36m4\u001b[0m\u001b[0;34m,\u001b[0m \u001b[0m_\u001b[0m\u001b[0;34m)\u001b[0m\u001b[0;34m\u001b[0m\u001b[0m\n\u001b[0m\u001b[1;32m      2\u001b[0m \u001b[0msquare_root\u001b[0m \u001b[0;34m=\u001b[0m \u001b[0mmath\u001b[0m\u001b[0;34m.\u001b[0m\u001b[0msqrt\u001b[0m\u001b[0;34m(\u001b[0m\u001b[0mrandom_number\u001b[0m\u001b[0;34m)\u001b[0m\u001b[0;34m\u001b[0m\u001b[0m\n\u001b[1;32m      3\u001b[0m \u001b[0;34m\u001b[0m\u001b[0m\n\u001b[1;32m      4\u001b[0m \u001b[0mcheck\u001b[0m\u001b[0;34m(\u001b[0m\u001b[0;36m3\u001b[0m\u001b[0;34m,\u001b[0m \u001b[0;36m1\u001b[0m\u001b[0;34m,\u001b[0m \u001b[0msquare_root\u001b[0m\u001b[0;34m,\u001b[0m \u001b[0mrandom_number\u001b[0m\u001b[0;34m)\u001b[0m\u001b[0;34m\u001b[0m\u001b[0m\n",
        "\u001b[0;32m/usr/local/Cellar/python/2.7.3/Frameworks/Python.framework/Versions/2.7/lib/python2.7/random.pyc\u001b[0m in \u001b[0;36mrandint\u001b[0;34m(self, a, b)\u001b[0m\n\u001b[1;32m    239\u001b[0m         \"\"\"\n\u001b[1;32m    240\u001b[0m \u001b[0;34m\u001b[0m\u001b[0m\n\u001b[0;32m--> 241\u001b[0;31m         \u001b[0;32mreturn\u001b[0m \u001b[0mself\u001b[0m\u001b[0;34m.\u001b[0m\u001b[0mrandrange\u001b[0m\u001b[0;34m(\u001b[0m\u001b[0ma\u001b[0m\u001b[0;34m,\u001b[0m \u001b[0mb\u001b[0m\u001b[0;34m+\u001b[0m\u001b[0;36m1\u001b[0m\u001b[0;34m)\u001b[0m\u001b[0;34m\u001b[0m\u001b[0m\n\u001b[0m\u001b[1;32m    242\u001b[0m \u001b[0;34m\u001b[0m\u001b[0m\n\u001b[1;32m    243\u001b[0m     def _randbelow(self, n, _log=_log, int=int, _maxwidth=1L<<BPF,\n",
        "\u001b[0;31mTypeError\u001b[0m: unsupported operand type(s) for +: 'Image' and 'int'"
       ]
      }
     ],
     "prompt_number": 5
    },
    {
     "cell_type": "code",
     "collapsed": false,
     "input": [
      "your_guess = _\n",
      "\n",
      "check(3, 2, your_guess, random_number)"
     ],
     "language": "python",
     "metadata": {},
     "outputs": [
      {
       "output_type": "stream",
       "stream": "stdout",
       "text": [
        "Nope. Your random number was 4 since 2.0 x 2.0 is 4\n"
       ]
      }
     ],
     "prompt_number": 6
    }
   ],
   "metadata": {}
  }
 ]
}