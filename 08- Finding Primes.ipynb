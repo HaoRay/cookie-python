{
 "metadata": {
  "name": "08- Finding Primes"
 },
 "nbformat": 3,
 "nbformat_minor": 0,
 "worksheets": [
  {
   "cells": [
    {
     "cell_type": "heading",
     "level": 2,
     "source": [
      "Finding Prime Numbers"
     ]
    },
    {
     "cell_type": "markdown",
     "source": [
      "Let's put what we know about functions to make a project to list out\n",
      "prime numbers. Remember that `is_prime` function I wrote for you?\n",
      "Let's make a version of it. A number is prime if it can only be evenly\n",
      "divided by 1 and itself. But we will need some clearer rules for\n",
      "Python. Can you think of some? Here is my first list:\n",
      "\n",
      "  * If the number is negative, it isn't prime.\n",
      "  * If the number is zero, it isn't prime.\n",
      "  * If the number is one, it is prime.\n",
      "  * Both two and three are prime numbers.\n",
      "  * 4 and every other even number is not prime.\n",
      "\n",
      "These rules are easy to write up, so here is our first attempt:"
     ]
    },
    {
     "cell_type": "code",
     "collapsed": false,
     "input": [
      "def is_prime(x):\n",
      "    if x < 1:\n",
      "        return False\n",
      "    elif x < 4:\n",
      "        return True\n",
      "    elif is_even(x):\n",
      "        return False\n",
      "    else:\n",
      "        return True"
     ],
     "language": "python",
     "outputs": [],
     "prompt_number": 12
    },
    {
     "cell_type": "markdown",
     "source": [
      "Except that we need an `is_even` function. Can you write that? I'll start:"
     ]
    },
    {
     "cell_type": "code",
     "collapsed": false,
     "input": [
      "def is_even(x):\n",
      "    return x _ 2 == 0   # Return True is evenly divided by 2"
     ],
     "language": "python",
     "outputs": [],
     "prompt_number": 3
    },
    {
     "cell_type": "markdown",
     "source": [
      "What should we replace the `_` symbol? That's right the `%` operator, we call *modulus*. We want to make sure that our function is good so far, so we *test it* by writing some more code to see if we got it right:"
     ]
    },
    {
     "cell_type": "code",
     "collapsed": false,
     "input": [
      "for t in range(5):\n",
      "    print t, \"is prime?\", is_prime(t)"
     ],
     "language": "python",
     "outputs": [
      {
       "output_type": "stream",
       "stream": "stdout",
       "text": [
        " 0 is prime? False\n",
        "1 is prime? True\n",
        "2 is prime? True\n",
        "3 is prime? True\n",
        "4 is prime? False\n"
       ]
      }
     ],
     "prompt_number": 5
    },
    {
     "cell_type": "markdown",
     "source": [
      "So far, so good. However, to test higher and higher numbers means we have to keep looking at the output to make sure we are right, and that sounds *tedious*. Let's make Python do it. We will use `assert` which means, *we assert that the following must be true... scream if it isn't*.\n",
      "\n",
      "The `assert` is a function that must be given something that is *always true*. So to test if `1` is prime, we do this:"
     ]
    },
    {
     "cell_type": "code",
     "collapsed": false,
     "input": [
      "assert( is_prime(1) )"
     ],
     "language": "python",
     "outputs": [],
     "prompt_number": 8
    },
    {
     "cell_type": "markdown",
     "source": [
      "It doesn't give us an error when we click **Play** on that cell, so it must be right. What about our other statements? We use `not` to tell Python that what follows should be false, like 4 or 0:"
     ]
    },
    {
     "cell_type": "code",
     "collapsed": false,
     "input": [
      "assert( not is_prime(0) )\n",
      "assert(     is_prime(1) )   # Yeah, I just lined them up pretty to make it easier to read\n",
      "assert(     is_prime(2) )\n",
      "assert(     is_prime(3) )\n",
      "assert( not is_prime(4) )"
     ],
     "language": "python",
     "outputs": [],
     "prompt_number": 9
    },
    {
     "cell_type": "markdown",
     "source": [
      "But what about 9? 9 is not prime, but we don't have a rule in our function for figuring it out, so right now, our function will think that since 9 is odd (not even) and greater than 4, then it must be prime:"
     ]
    },
    {
     "cell_type": "code",
     "collapsed": false,
     "input": [
      "assert( not is_prime(9) )"
     ],
     "language": "python",
     "outputs": [
      {
       "ename": "AssertionError",
       "evalue": "",
       "output_type": "pyerr",
       "traceback": [
        "\u001b[0;31m---------------------------------------------------------------------------\u001b[0m\n\u001b[0;31mAssertionError\u001b[0m                            Traceback (most recent call last)",
        "\u001b[0;32m<ipython-input-14-2bfd7f5e9a8b>\u001b[0m in \u001b[0;36m<module>\u001b[0;34m()\u001b[0m\n\u001b[0;32m----> 1\u001b[0;31m \u001b[0;32massert\u001b[0m\u001b[0;34m(\u001b[0m \u001b[0;32mnot\u001b[0m \u001b[0mis_prime\u001b[0m\u001b[0;34m(\u001b[0m\u001b[0;36m9\u001b[0m\u001b[0;34m)\u001b[0m \u001b[0;34m)\u001b[0m\u001b[0;34m\u001b[0m\u001b[0m\n\u001b[0m",
        "\u001b[0;31mAssertionError\u001b[0m: "
       ]
      }
     ],
     "prompt_number": 14
    },
    {
     "cell_type": "markdown",
     "source": [
      "And sure enough we got ourselves an error. While that isn't what we want, it is what we expect... at least until we come up with another rule in our `is_prime` function. Remember our `is_even` function that did the modulus of 2? We could do a modulus of 3 and that will catch a 9...\n",
      "\n",
      "    elif x % 3 == 0:\n",
      "        return False\n",
      "\n",
      "But what about 15? That is dividable by 5...\n",
      "\n",
      "    elif x % 5 == 0:\n",
      "        return False\n",
      "\n",
      "This will get *tedious* quick... and by tedious, we should have Python do that sort of work. Do you see the pattern? A number is not prime if we can modulus *any number* and get 0.\n",
      "\n",
      "This calls for a loop! We'll use a variable `t` to loop through all the possibly numbers that we could use to test the modulus. But what numbers should that be? We need to replace two `_` symbols with our starting number and our ending number. Since we are already checking for 2 (with our `is_even` function), we can simply start checking at 3. That that is the first number in our `range`.\n",
      "\n",
      "Where should we end? Well, we don't need to test anything higher than the number... in fact, we shouldn't even test our number, since `x % x` will always be true, so we just need to end just before our number, `x`. But the `range` always ends right before the second number we give it, so the second parameter to `range` should be `x`. Get it?"
     ]
    },
    {
     "cell_type": "code",
     "collapsed": false,
     "input": [
      "def is_prime(x):\n",
      "    if x < 1:\n",
      "        return False\n",
      "    elif x < 4:\n",
      "        return True\n",
      "    elif is_even(x):\n",
      "        return False\n",
      "    else:\n",
      "        for t in range(_, _):\n",
      "            if x % t == 0:\n",
      "                return False\n",
      "        return True\n",
      "\n",
      "assert( not is_prime(0) )\n",
      "assert(     is_prime(1) )   # Yeah, I just lined them up pretty to make it easier to read\n",
      "assert(     is_prime(2) )\n",
      "assert(     is_prime(3) )\n",
      "assert( not is_prime(4) )\n",
      "assert(     is_prime(5) )\n",
      "assert( not is_prime(9) )\n",
      "assert(     is_prime(11) )\n",
      "assert( not is_prime(15) )"
     ],
     "language": "python",
     "outputs": [],
     "prompt_number": 17
    },
    {
     "cell_type": "markdown",
     "source": [
      "It works! And now, we can make another function that shows all the prime numbers up to a limit:"
     ]
    },
    {
     "cell_type": "code",
     "collapsed": false,
     "input": [
      "def show_primes(limit):\n",
      "    for y in range(1, limit + 1):\n",
      "        if is_prime(y):\n",
      "            print y,\n",
      "\n",
      "show_primes(100)"
     ],
     "language": "python",
     "outputs": [
      {
       "output_type": "stream",
       "stream": "stdout",
       "text": [
        "1 2 3 5 7 11 13 17 19 23 29 31 37 41 43 47 53 59 61 67 71 73 79 83 89 97\n"
       ]
      }
     ],
     "prompt_number": 20
    },
    {
     "cell_type": "markdown",
     "source": [
      "Do you see how we make lots of little functions to solve big problems? That is how we do everything! And then we *share* our functions with others, so that they can just call our functions to solve even bigger problems.\n",
      "\n",
      "We haven't finished learning everything about function... I've got more to show you in the next lesson."
     ]
    }
   ]
  }
 ]
}