{
 "metadata": {
  "name": "07- Making Functions"
 },
 "nbformat": 3,
 "nbformat_minor": 0,
 "worksheets": [
  {
   "cells": [
    {
     "cell_type": "heading",
     "level": 2,
     "source": [
      "Making Functions"
     ]
    },
    {
     "cell_type": "markdown",
     "source": [
      "As you know now, a function is a way of collecting some Python code and attaching a name to it. Then you can *call* it anytime.\n",
      "\n",
      "To make a function, you use `def`, like this:"
     ]
    },
    {
     "cell_type": "code",
     "collapsed": false,
     "input": [
      "def hello(): print \"Hello there!\"\n",
      "# 1   2  3 4   5         6\n",
      "\n",
      "hello()"
     ],
     "language": "python",
     "outputs": [
      {
       "output_type": "stream",
       "stream": "stdout",
       "text": [
        "Hello there!\n"
       ]
      }
     ],
     "prompt_number": 3
    },
    {
     "cell_type": "markdown",
     "source": [
      "The `def` (above the 1) tells Python that we are going to *define a function*, and that the word that follows is its name (above the 2).\n",
      "\n",
      "Remember how every time you call a function, you put parenthesis after it? Well, we do this when we make the function, too (the parens are above the 3).\n",
      "\n",
      "Just like with `for` and `if`, the colon (above the 4), separates the *head* of the function from the *body* (above the 5 and 6).\n",
      "\n",
      "Usually our functions do a lot of things, and if you functions does two or more, you need to put the function body on separate lines, but indented, like this:"
     ]
    },
    {
     "cell_type": "code",
     "collapsed": false,
     "input": [
      "def hello():\n",
      "    print \"Hello there!\""
     ],
     "language": "python",
     "outputs": []
    },
    {
     "cell_type": "heading",
     "level": 2,
     "source": [
      "Parameters"
     ]
    },
    {
     "cell_type": "markdown",
     "source": [
      "A *parameter* (we sometimes call them *arguments*) are things we can pass *into* a function. For instance:"
     ]
    },
    {
     "cell_type": "code",
     "collapsed": false,
     "input": [
      "def hello(name):\n",
      "    print \"Hello\", name\n",
      "\n",
      "hello(\"Charlie\")"
     ],
     "language": "python",
     "outputs": [
      {
       "output_type": "stream",
       "stream": "stdout",
       "text": [
        "Hello Charlie\n"
       ]
      }
     ],
     "prompt_number": 5
    },
    {
     "cell_type": "markdown",
     "source": [
      "You can pass in more than one thing into a function if you separate them with commas:"
     ]
    },
    {
     "cell_type": "code",
     "collapsed": false,
     "input": [
      "def larger(a, b):\n",
      "    if a < b:\n",
      "        print a, \"is less than\", b\n",
      "    elif a > b:\n",
      "        print a, \"is greater than\", b\n",
      "    else:\n",
      "        print a, \"is the same as\", b\n",
      "\n",
      "larger(3, 5)"
     ],
     "language": "python",
     "outputs": [
      {
       "output_type": "stream",
       "stream": "stdout",
       "text": [
        "3 is less than 5\n"
       ]
      }
     ],
     "prompt_number": 7
    },
    {
     "cell_type": "heading",
     "level": 2,
     "source": [
      "Returning Values"
     ]
    },
    {
     "cell_type": "markdown",
     "source": [
      "If you want the function to give you back something, you use `return`:"
     ]
    },
    {
     "cell_type": "code",
     "collapsed": false,
     "input": [
      "def getSecret():\n",
      "    return randint(1, 10)\n",
      "\n",
      "guess = 6\n",
      "\n",
      "if guess == getSecret():\n",
      "    print \"You're quite lucky! You guessed it right.\"\n",
      "else:\n",
      "    print \"I didn't think you could guess it on the first try.\""
     ],
     "language": "python",
     "outputs": [
      {
       "output_type": "stream",
       "stream": "stdout",
       "text": [
        "I didn't think you could guess it on the first try.\n"
       ]
      }
     ],
     "prompt_number": 4
    },
    {
     "cell_type": "markdown",
     "source": [
      "You can use more than one `return`, but once Python runs the `return`, it doesn't do anything else. This means that both of these functions are the same:\n"
     ]
    },
    {
     "cell_type": "code",
     "collapsed": false,
     "input": [
      "def difference1(a, b):\n",
      "    if a < b:\n",
      "        return b - a\n",
      "    else:\n",
      "        return a - b\n",
      "\n",
      "def difference2(a, b):\n",
      "    if a < b:\n",
      "        return b - a\n",
      "\n",
      "    return a - b\n",
      "\n",
      "print \"Difference of 3 and 6 is\", difference1(3, 6)\n",
      "print \"Difference of 8 and 2 is\", difference2(8, 2)"
     ],
     "language": "python",
     "outputs": [
      {
       "output_type": "stream",
       "stream": "stdout",
       "text": [
        "Difference of 3 and 6 is 3\n",
        "Difference of 8 and 2 is 6\n"
       ]
      }
     ],
     "prompt_number": 12
    },
    {
     "cell_type": "markdown",
     "source": [
      "Now you know quite a bit about how to make functions. In the next\n",
      "lesson, we'll put that to good use to make some functions to help us\n",
      "make a list of prime numbers."
     ]
    }
   ]
  }
 ]
}